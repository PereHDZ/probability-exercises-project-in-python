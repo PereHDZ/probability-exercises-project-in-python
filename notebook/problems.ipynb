{
 "cells": [
  {
   "cell_type": "markdown",
   "id": "a41f3622",
   "metadata": {},
   "source": [
    "# Probability exercises"
   ]
  },
  {
   "cell_type": "markdown",
   "id": "a6bdbd89",
   "metadata": {},
   "source": [
    "## Exercise 1 \n",
    "\n",
    "Two dices are thrown once and the total score is observed. Use a simulation to find the estimated probability that the total score is even or greater than 7.  A simulation is a repetition of the same experiment multiple times to observe its behavior:\n",
    "\n",
    "- Run the experiment 1000 times (roll 2 dice 1000 times, and sum the number of both dices).\n",
    "- Keep track of the number of times that the sum was either greater than 7 or an even number.\n",
    "- Divide the number from step 2 by the number of iterations (1000)."
   ]
  },
  {
   "cell_type": "code",
   "execution_count": 1,
   "id": "8939d892",
   "metadata": {},
   "outputs": [
    {
     "name": "stdout",
     "output_type": "stream",
     "text": [
      "The score has been equal or greater than 7 60.8% of times.\n"
     ]
    }
   ],
   "source": [
    "import numpy as np\n",
    "\n",
    "throws = np.random.randint(1, 7, (1000, 2))\n",
    "score = throws.sum(axis=1)\n",
    "\n",
    "greater_than_6 = np.sum(score > 6)\n",
    "\n",
    "ocurrence = greater_than_6 / 1000\n",
    "\n",
    "print (f'The score has been equal or greater than 7 {ocurrence*100}% of times.')"
   ]
  },
  {
   "cell_type": "markdown",
   "id": "55732bca",
   "metadata": {},
   "source": [
    "## Exercise 2\n",
    "\n",
    "A box contains 10 white balls, 20 red balls and 30 green balls. If we take 5 balls from the box with replacement (we take the ball, observe what color it is and put it back into the box). We want to know the probability of:\n",
    "\n",
    "1. Take 3 white and 2 red.\n",
    "2. Take all of the same color.\n",
    "\n",
    "Run the experiment 1000 times and calculate the above probabilities."
   ]
  },
  {
   "cell_type": "code",
   "execution_count": 9,
   "id": "23244d20",
   "metadata": {},
   "outputs": [
    {
     "name": "stdout",
     "output_type": "stream",
     "text": [
      "The probability of picking 3 whites and 2 reds is 0.009\n",
      "The probability of 5 balls of the same color is 0.041\n"
     ]
    }
   ],
   "source": [
    "ball_box = {}\n",
    "\n",
    "# Create the box of balls\n",
    "for i in range(60):\n",
    "    if i < 10:\n",
    "        ball_box[i] = \"White\"\n",
    "    elif (i > 9) and (i < 30):\n",
    "        ball_box[i] = \"Red\"\n",
    "    else:\n",
    "        ball_box[i] = \"Green\"\n",
    "\n",
    "# print(ball_box)\n",
    "            \n",
    "# Chance to pick up 3 white and 2 red\n",
    "ball_types = list(ball_box.values())\n",
    "unique, counts = np.unique(ball_types, return_counts=True)\n",
    "probability = counts / sum(counts)\n",
    "\n",
    "n_simulations = 1000\n",
    "matches = 0\n",
    "\n",
    "for i in range(n_simulations):\n",
    "    picks = np.random.choice(unique, size=5, replace=True, p=probability)\n",
    "    whites = np.sum(picks == 'White')\n",
    "    reds = np.sum(picks == 'Red')\n",
    "    if whites == 3 and reds == 2:\n",
    "        matches = matches + 1\n",
    "\n",
    "match_probability = matches / n_simulations\n",
    "\n",
    "print(f'The probability of picking 3 whites and 2 reds is {match_probability}')\n",
    "\n",
    "# Chance to pick all  of the same color\n",
    "matches = 0\n",
    "\n",
    "for i in range(n_simulations):\n",
    "    picks = np.random.choice(unique, size=5, replace=True, p=probability)\n",
    "    whites = np.sum(picks == 'White')\n",
    "    reds = np.sum(picks == 'Red')\n",
    "    greens = np.sum(picks == 'Green')\n",
    "    if whites == 5 or reds == 5 or greens == 5:\n",
    "        matches = matches + 1\n",
    "\n",
    "match_probability = matches / n_simulations\n",
    "\n",
    "print(f'The probability of 5 balls of the same color is {match_probability}')"
   ]
  }
 ],
 "metadata": {
  "kernelspec": {
   "display_name": "Python 3",
   "language": "python",
   "name": "python3"
  },
  "language_info": {
   "codemirror_mode": {
    "name": "ipython",
    "version": 3
   },
   "file_extension": ".py",
   "mimetype": "text/x-python",
   "name": "python",
   "nbconvert_exporter": "python",
   "pygments_lexer": "ipython3",
   "version": "3.11.4"
  }
 },
 "nbformat": 4,
 "nbformat_minor": 5
}
